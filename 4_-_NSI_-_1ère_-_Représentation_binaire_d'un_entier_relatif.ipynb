{
  "nbformat": 4,
  "nbformat_minor": 0,
  "metadata": {
    "colab": {
      "name": "4 - NSI - 1ère - Représentation binaire d'un entier relatif.ipynb",
      "version": "0.3.2",
      "provenance": [],
      "collapsed_sections": [],
      "include_colab_link": true
    },
    "kernelspec": {
      "name": "python3",
      "display_name": "Python 3"
    }
  },
  "cells": [
    {
      "cell_type": "markdown",
      "metadata": {
        "id": "view-in-github",
        "colab_type": "text"
      },
      "source": [
        "<a href=\"https://colab.research.google.com/github/codekodo/documentation/blob/master/4_-_NSI_-_1%C3%A8re_-_Repr%C3%A9sentation_binaire_d'un_entier_relatif.ipynb\" target=\"_parent\"><img src=\"https://colab.research.google.com/assets/colab-badge.svg\" alt=\"Open In Colab\"/></a>"
      ]
    },
    {
      "cell_type": "markdown",
      "metadata": {
        "id": "fsyIe58znvVP",
        "colab_type": "text"
      },
      "source": [
        "# REPRESENTATION BINAIRE D'UN ENTIER RELATIF\n",
        "\n",
        "Nous avons déjà vu comment représenter les entiers positifs, nous allons maintenant nous intéresser aux entiers relatifs.\n",
        "\n",
        "## 1. Problème du zéro\n",
        "\n",
        "La première idée qui pourrait nous venir à l'esprit est, sur un nombre comportant n bits, d'utiliser 1 bit pour représenter le signe et n-1 bit pour représenter la valeur absolue du nombre à représenter. Le bit de signe étant le bit dit \"de poids fort\" (c'est à dire le bit le plus à gauche), ce bit de poids fort serait à 0 dans le cas d'un nombre positif et à 1 dans le cas d'un nombre négatif.\n",
        "\n",
        "Exemple : on représente l'entier 5 sur 8 bits par 00000101, -5 serait donc représenté par 10000101\n",
        "\n",
        "> ---\n",
        "\n",
        "> **Entraînement 1**\n",
        "\n",
        "> En utilisant la méthode décrite ci-dessus, représentez -15 (représentation sur 8 bits).\n",
        "\n",
        "> ---\n",
        "\n"
      ]
    },
    {
      "cell_type": "markdown",
      "metadata": {
        "id": "FjF7NMfcpNr4",
        "colab_type": "text"
      },
      "source": [
        "**Entraînement 1 - Réponse** *(écrire la réponse dans cette cellule)*\n",
        "\n",
        "\n"
      ]
    },
    {
      "cell_type": "markdown",
      "metadata": {
        "id": "N5d97N-4pOEu",
        "colab_type": "text"
      },
      "source": [
        "Il existe un énorme inconvénient à cette méthode : l'existence de deux zéros, un zéro positif (00000000) et un zéro négatif (10000000) !\n",
        "\n",
        "Ce problème est, pour plusieurs raisons qui ne seront pas développées ici, rédhibitoire. Nous allons donc devoir utiliser une autre méthode : le complément à deux\n",
        "\n",
        "\n",
        "## 2. Le complément à deux\n",
        "\n",
        "Avant de représenter un entier relatif, il est nécessaire de définir le nombre de bits qui seront utilisés pour cette représentation (souvent 8, 16 , 32 ou 64 bits)\n",
        "\n",
        "Prenons tout de suite un exemple : déterminons la représentation de -12 sur 8 bits\n",
        "\n",
        "* Commençons par représenter 12 sur 8 bits (sachant que pour représenter 12 en binaire seuls 4 bits sont nécessaire, les 4 bits les plus à gauche seront à 0) : 00001100\n",
        "* Inversons tous les bits (les bits à 1 passent à 0 et vice versa) : 11110011\n",
        "* Ajoutons 1 au nombre obtenu à l'étape précédente :\n",
        "\n",
        "<center>\n",
        "    \n",
        "![calcul](https://pixees.fr/informatiquelycee/n_site/img/nsi_nbre_sign_1.png)\n",
        "    \n",
        "*les retenues sont notées en rouge*\n",
        "</center>\n",
        "\n",
        "\n",
        "* La représentation de -12 sur 8 bits est donc : 11110100\n",
        "\n",
        "Comment peut-on être sûr que 11110100 est bien la représentation de -12 ?\n",
        "\n",
        "Nous pouvons affirmer sans trop de risque de nous tromper que 12 + (-12) = 0, vérifions que cela est vrai pour notre représentation sur 8 bits.\n",
        "\n",
        "<center>\n",
        "    \n",
        "![calcul](https://pixees.fr/informatiquelycee/n_site/img/nsi_nbre_sign_2.png)\n",
        "\n",
        "</center>\n",
        "\n",
        "Dans l'opération ci-dessus, nous avons un 1 pour le 9e bit, mais comme notre représentation se limite à 8 bits, il nous reste bien 00000000.\n",
        "\n",
        "> ---\n",
        "\n",
        "> **Entraînement 2**\n",
        "\n",
        "> En utilisant le complément à 2, représentez -15 (représentation sur 8 bits)\n",
        "\n",
        "> ---"
      ]
    },
    {
      "cell_type": "markdown",
      "metadata": {
        "id": "pWwLHqaURSW8",
        "colab_type": "text"
      },
      "source": [
        "**Entraînement 2 - Réponse** *(écrire la réponse dans cette cellule)*"
      ]
    },
    {
      "cell_type": "markdown",
      "metadata": {
        "id": "sQmiwfhTnm1Z",
        "colab_type": "text"
      },
      "source": [
        "Il faut noter qu'il est facile de déterminer si une représentation correspond à un entier positif ou un entier négatif : si le bit de poids fort est à 1, nous avons affaire à un entier négatif, si le bit de poids fort est à 0, nous avons affaire à un entier positif.\n",
        "\n",
        "> ---\n",
        "\n",
        "> **Entraînement 3**\n",
        "\n",
        "> Représentez sur 8 bits l'entier 4 puis représentez, toujours sur 8 bits, l'entier -5. Additionnez ces 2 nombres (en utilisant les représentations binaires bien évidemment), vérifiez que vous obtenez bien -1.\n",
        "\n",
        "> ---"
      ]
    },
    {
      "cell_type": "markdown",
      "metadata": {
        "id": "QOWM-0DuRnAg",
        "colab_type": "text"
      },
      "source": [
        "**Entraînement 3 - Réponse** *(écrire la réponse dans cette cellule)*"
      ]
    },
    {
      "cell_type": "markdown",
      "metadata": {
        "id": "O_HdYUeXRnGH",
        "colab_type": "text"
      },
      "source": [
        "> ---\n",
        "\n",
        "> **Entraînement 4**\n",
        "\n",
        "> Quel est le plus petit entier négatif que l'on peut représenter sur 8 bits ?\n",
        "\n",
        "> ---"
      ]
    },
    {
      "cell_type": "markdown",
      "metadata": {
        "id": "smp3K_r9RyRX",
        "colab_type": "text"
      },
      "source": [
        "**Entraînement 4 - Réponse** *(écrire la réponse dans cette cellule)*"
      ]
    },
    {
      "cell_type": "markdown",
      "metadata": {
        "id": "8PuYaHnaRyYP",
        "colab_type": "text"
      },
      "source": [
        "> ---\n",
        "\n",
        "> **Entraînement 5**\n",
        "\n",
        "> Quel est le plus grand entier positif que l'on peut représenter sur 8 bits ?\n",
        "\n",
        "> ---"
      ]
    },
    {
      "cell_type": "markdown",
      "metadata": {
        "id": "QQo5fllcSiFr",
        "colab_type": "text"
      },
      "source": [
        "**Entraînement 5 - Réponse** *(écrire la réponse dans cette cellule)*"
      ]
    },
    {
      "cell_type": "markdown",
      "metadata": {
        "id": "wqenQGVASS2O",
        "colab_type": "text"
      },
      "source": [
        "> ---\n",
        "\n",
        "> **Entraînement 6**\n",
        "\n",
        "> Quelles sont les bornes inférieure et supérieure d'un entier relatif codé sur 16 bits ?\n",
        "\n",
        "> ---"
      ]
    },
    {
      "cell_type": "markdown",
      "metadata": {
        "id": "g2Tqo4MSSSuf",
        "colab_type": "text"
      },
      "source": [
        "**Entraînement 6 - Réponse** *(écrire la réponse dans cette cellule)*"
      ]
    },
    {
      "cell_type": "markdown",
      "metadata": {
        "id": "v_K37qs7Sk9e",
        "colab_type": "text"
      },
      "source": [
        "Dans l'\"Entraînement 4\" vous avez dû normalement trouver 10000000 (soit -128) et 01111111 (soit 127) dans l'\"Entraînement 5\". Plus généralement, nous pouvons dire que pour une représentation sur n bits, il sera possible de coder des valeurs comprises entre $-2^{n-1}$ et $+2^{n-1} - 1$.\n",
        "\n",
        "\n"
      ]
    },
    {
      "cell_type": "markdown",
      "metadata": {
        "id": "wZ0IE4MZVvsu",
        "colab_type": "text"
      },
      "source": [
        "---\n",
        "\n",
        "***A propos de ce document***\n",
        "\n",
        "* Auteur : David Roche\n",
        "* Source : https://pixees.fr/informatiquelycee/n_site/nsi_prem_base_2_16.html\n",
        "* Licence : [Creative Commons BY-SA](https://creativecommons.org/licenses/by-sa/2.0/)\n",
        "* Adaptation au format calepin : Laurent Abbal "
      ]
    }
  ]
}