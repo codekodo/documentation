http://pythontutor.com/

Python Tutor (created by Philip Guo) helps people overcome a fundamental barrier to learning programming: understanding what happens as the computer runs each line of code.
