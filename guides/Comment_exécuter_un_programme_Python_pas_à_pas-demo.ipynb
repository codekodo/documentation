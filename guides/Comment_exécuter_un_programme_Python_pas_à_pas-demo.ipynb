{
  "nbformat": 4,
  "nbformat_minor": 0,
  "metadata": {
    "colab": {
      "name": "Comment_exécuter_un_programme_Python_pas_à_pas-demo.ipynb",
      "version": "0.3.2",
      "provenance": [],
      "collapsed_sections": [],
      "include_colab_link": true
    },
    "kernelspec": {
      "name": "python3",
      "display_name": "Python 3"
    }
  },
  "cells": [
    {
      "cell_type": "markdown",
      "metadata": {
        "id": "view-in-github",
        "colab_type": "text"
      },
      "source": [
        "<a href=\"https://colab.research.google.com/github/codekodo/documentation/blob/master/guides/Comment_ex%C3%A9cuter_un_programme_Python_pas_%C3%A0_pas-demo.ipynb\" target=\"_parent\"><img src=\"https://colab.research.google.com/assets/colab-badge.svg\" alt=\"Open In Colab\"/></a>"
      ]
    },
    {
      "cell_type": "markdown",
      "metadata": {
        "id": "Gx3wbzz8NB6x",
        "colab_type": "text"
      },
      "source": [
        "## Exécuter un programme Python pas à pas"
      ]
    },
    {
      "cell_type": "code",
      "metadata": {
        "colab_type": "code",
        "id": "_1QkdUZFX20v",
        "colab": {}
      },
      "source": [
        "# executez cette cellule puis effacez le\n",
        "# contenu de la console en cliquant sur \n",
        "# 'Clear ouput' (bouton en haut à gauche)\n",
        "# afin de faciliter l'utilisation de la \n",
        "# cellule suivante.\n",
        "\n",
        "!pip install metakernel\n",
        "from metakernel import register_ipython_magics\n",
        "register_ipython_magics();"
      ],
      "execution_count": 0,
      "outputs": []
    },
    {
      "cell_type": "code",
      "metadata": {
        "colab_type": "code",
        "id": "VpzJCKVoX2d6",
        "colab": {}
      },
      "source": [
        "# commande Tutor Python\n",
        "%%tutor\n",
        "\n",
        "# CODE PYTHON A EXECUTER PAS A PAS\n",
        "# utilisez l'exemple ci-dessous ou\n",
        "# remplacez l'exemple par votre code\n",
        "liste = []\n",
        "for i in range(10):\n",
        "    liste.append(i ** 2)"
      ],
      "execution_count": 0,
      "outputs": []
    }
  ]
}